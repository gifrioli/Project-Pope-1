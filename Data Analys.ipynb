{
 "cells": [
  {
   "cell_type": "markdown",
   "id": "ea727a25-a058-4a10-880b-283604047098",
   "metadata": {},
   "source": [
    "# Data analysis for the project 'Lying about the Pope is a sin?'"
   ]
  },
  {
   "cell_type": "markdown",
   "id": "52069758-dffb-4f7f-b3c1-3adb52acc188",
   "metadata": {},
   "source": [
    "I want to ask some questions about the dataset, such as:\n",
    "\n",
    "1. What words are recurring in the claims?\n",
    "2. Which languages publish the most fact-checks about the Pope?\n",
    "3. In which year did we have the most lies checked about the Pope?\n",
    "4. Who was the target of more lies, Pope Francis or Pope Leo XIV?\n",
    "5. Which fact-checking agencies have the most publications about the Pope?"
   ]
  },
  {
   "cell_type": "code",
   "execution_count": 1,
   "id": "dd25e806-5ca5-4413-8a47-d9c32cdaf5d6",
   "metadata": {},
   "outputs": [],
   "source": [
    "import pandas as pd\n",
    "df = pd.read_excel('factcheck_pope_results.xlsx')"
   ]
  },
  {
   "cell_type": "markdown",
   "id": "fff2f07c-12c8-40d6-9560-5bf458ce8f0e",
   "metadata": {},
   "source": [
    "# Criação de Coluna Extra em Inglês\n",
    "\n",
    "To analyze the most current topics, I need to translate the claims (lies) into a single language.\n",
    "\n",
    "_Note: In the Google Fact Check API, fact-checking agencies fill the 'claim' field with the lie that is circulating on social media._"
   ]
  },
  {
   "cell_type": "code",
   "execution_count": 2,
   "id": "40b75ced-cd38-43fc-862f-1da6363e586f",
   "metadata": {},
   "outputs": [
    {
     "name": "stderr",
     "output_type": "stream",
     "text": [
      "100%|███████████████████████████████████████████████████████████████████████████████████████████████████████████████████████████████████████████████████████████████████████████| 812/812 [01:54<00:00,  7.10it/s]\n"
     ]
    }
   ],
   "source": [
    "from langdetect import detect\n",
    "from deep_translator import GoogleTranslator\n",
    "from tqdm import tqdm\n",
    "tqdm.pandas()\n",
    "\n",
    "#Creating a function to translate Claim into English.\n",
    "def translate_to_en(claim):\n",
    "    try:\n",
    "        language = detect(claim)\n",
    "        if language != 'en':\n",
    "            return GoogleTranslator(source='auto', target='en').translate(claim)\n",
    "        else:\n",
    "            return claim\n",
    "    except Exception as e:\n",
    "        return f\"[Error: {e}]\"\n",
    "\n",
    "#I looked for how to put a progress bar because it was taking a long time to translate and I didn't know if it was working.\n",
    "df['claim_en'] = df['Claim'].astype(str).progress_apply(translate_to_en)\n",
    "df.to_excel(\"claims_traduzidas.xlsx\", index=False)"
   ]
  },
  {
   "cell_type": "markdown",
   "id": "245e3c8f-9f95-4562-be56-5c09f737f053",
   "metadata": {},
   "source": [
    "# Why I use KeyBERT\n",
    "\n",
    "I tried to do a simple word count, but there were a lot of words that didn't make sense of the claim and just made connections in the sentence. I decided to use KeyBERT because it seems to analyze the meaning of the sentence, highlighting the main keywords.\n",
    "\n",
    "Here is the KeyBERT documentation: https://maartengr.github.io/KeyBERT/"
   ]
  },
  {
   "cell_type": "code",
   "execution_count": 15,
   "id": "ebe399ec-b2b5-45bb-87d6-3fef0b764918",
   "metadata": {},
   "outputs": [
    {
     "data": {
      "text/html": [
       "<div>\n",
       "<style scoped>\n",
       "    .dataframe tbody tr th:only-of-type {\n",
       "        vertical-align: middle;\n",
       "    }\n",
       "\n",
       "    .dataframe tbody tr th {\n",
       "        vertical-align: top;\n",
       "    }\n",
       "\n",
       "    .dataframe thead th {\n",
       "        text-align: right;\n",
       "    }\n",
       "</style>\n",
       "<table border=\"1\" class=\"dataframe\">\n",
       "  <thead>\n",
       "    <tr style=\"text-align: right;\">\n",
       "      <th></th>\n",
       "      <th>claim_en</th>\n",
       "      <th>Keywords</th>\n",
       "    </tr>\n",
       "  </thead>\n",
       "  <tbody>\n",
       "    <tr>\n",
       "      <th>0</th>\n",
       "      <td>Pope Leo XIV said: \"You cannot follow Christ a...</td>\n",
       "      <td>[(pope, 0.4337), (cruelty, 0.3353), (christ, 0...</td>\n",
       "    </tr>\n",
       "    <tr>\n",
       "      <th>1</th>\n",
       "      <td>Pope Leo XIV urges Catholics to put “blessed s...</td>\n",
       "      <td>[(salt, 0.4117), (catholics, 0.4099), (pope, 0...</td>\n",
       "    </tr>\n",
       "    <tr>\n",
       "      <th>2</th>\n",
       "      <td>Video Fake: Disney announced a movie about Pop...</td>\n",
       "      <td>[(pope, 0.4616), (actress, 0.4171), (disney, 0...</td>\n",
       "    </tr>\n",
       "    <tr>\n",
       "      <th>3</th>\n",
       "      <td>Papa and Malei before a painting by St. Michae...</td>\n",
       "      <td>[(archangel, 0.4794), (papa, 0.4624), (satan, ...</td>\n",
       "    </tr>\n",
       "    <tr>\n",
       "      <th>4</th>\n",
       "      <td>In June 2025, a series of photographs authenti...</td>\n",
       "      <td>[(pope, 0.4359), (stairs, 0.4009), (2025, 0.39...</td>\n",
       "    </tr>\n",
       "  </tbody>\n",
       "</table>\n",
       "</div>"
      ],
      "text/plain": [
       "                                            claim_en  \\\n",
       "0  Pope Leo XIV said: \"You cannot follow Christ a...   \n",
       "1  Pope Leo XIV urges Catholics to put “blessed s...   \n",
       "2  Video Fake: Disney announced a movie about Pop...   \n",
       "3  Papa and Malei before a painting by St. Michae...   \n",
       "4  In June 2025, a series of photographs authenti...   \n",
       "\n",
       "                                            Keywords  \n",
       "0  [(pope, 0.4337), (cruelty, 0.3353), (christ, 0...  \n",
       "1  [(salt, 0.4117), (catholics, 0.4099), (pope, 0...  \n",
       "2  [(pope, 0.4616), (actress, 0.4171), (disney, 0...  \n",
       "3  [(archangel, 0.4794), (papa, 0.4624), (satan, ...  \n",
       "4  [(pope, 0.4359), (stairs, 0.4009), (2025, 0.39...  "
      ]
     },
     "execution_count": 15,
     "metadata": {},
     "output_type": "execute_result"
    }
   ],
   "source": [
    "from keybert import KeyBERT\n",
    "\n",
    "claims_eng = pd.read_excel(\"claims_traduzidas.xlsx\")\n",
    "kw_model = KeyBERT()\n",
    "\n",
    "# I decided to extract the top 3 keywords from each claim to capture its main ideas.\n",
    "claims_eng['Keywords'] = claims_eng['claim_en'].astype(str).apply(lambda claim: kw_model.extract_keywords(claim, top_n=3))\n",
    "\n",
    "claims_eng[['claim_en', 'Keywords']].head()"
   ]
  },
  {
   "cell_type": "markdown",
   "id": "f6f95911-b3cc-4fd8-ad67-092a8065b657",
   "metadata": {},
   "source": [
    "# 1. Frequency of keywords in claims about Papa\n",
    "\n",
    "The results will be used to build a word cloud in DataWrapper."
   ]
  },
  {
   "cell_type": "code",
   "execution_count": 28,
   "id": "519a4a75-f799-4590-8637-e0dd75b2355b",
   "metadata": {},
   "outputs": [
    {
     "name": "stdout",
     "output_type": "stream",
     "text": [
      "pope 695\n",
      "francis 254\n",
      "vatican 49\n",
      "leo 33\n",
      "benedict 21\n",
      "donald 17\n",
      "flag 16\n",
      "biden 16\n",
      "funeral 16\n",
      "rockefeller 16\n",
      "bolsonaro 15\n",
      "papa 14\n",
      "trump 14\n",
      "cardinal 14\n",
      "satanic 14\n",
      "rothschild 14\n",
      "catholic 13\n",
      "bible 13\n",
      "video 12\n",
      "lgbt 12\n",
      "zelensky 11\n",
      "popes 11\n",
      "paul 11\n",
      "muslim 10\n",
      "jacket 10\n",
      "coronavirus 10\n",
      "lula 9\n",
      "priests 9\n",
      "flags 9\n",
      "cross 9\n"
     ]
    }
   ],
   "source": [
    "from collections import Counter\n",
    "\n",
    "all_keywords = []\n",
    "for keywords in claims_eng['Keywords']:\n",
    "   if isinstance(keywords, list):\n",
    "        all_keywords.extend([kw[0] for kw in keywords])\n",
    "\n",
    "#Count word frequency\n",
    "keyword_counts = Counter(all_keywords)\n",
    "\n",
    "#Show the 10 most frequent words\n",
    "top_keywords = keyword_counts.most_common(30)\n",
    "for word, count in top_keywords:\n",
    "    print(f\"{word} {count}\")"
   ]
  },
  {
   "cell_type": "markdown",
   "id": "aa90dcd3-1c88-4f00-baba-3ac601c9f4be",
   "metadata": {},
   "source": [
    "# 2. Languages with the most fact-checks about the Pope"
   ]
  },
  {
   "cell_type": "code",
   "execution_count": 25,
   "id": "109d61d6-b5e5-4e09-8637-b87740d46d98",
   "metadata": {},
   "outputs": [
    {
     "data": {
      "text/plain": [
       "Language\n",
       "en    293\n",
       "es    190\n",
       "pt     96\n",
       "tr     28\n",
       "ar     23\n",
       "ru     23\n",
       "pl     22\n",
       "fr     19\n",
       "de     17\n",
       "el     17\n",
       "Name: count, dtype: int64"
      ]
     },
     "execution_count": 25,
     "metadata": {},
     "output_type": "execute_result"
    }
   ],
   "source": [
    "df = pd.read_excel('factcheck_pope_results.xlsx')\n",
    "df['Language'].value_counts().head(10)"
   ]
  },
  {
   "cell_type": "code",
   "execution_count": 17,
   "id": "e5abcf4f-d52b-4278-8f60-62aa284cf646",
   "metadata": {},
   "outputs": [
    {
     "data": {
      "image/png": "[encoded data removed]",
      "text/plain": [
       "<Figure size 640x480 with 1 Axes>"
      ]
     },
     "metadata": {},
     "output_type": "display_data"
    }
   ],
   "source": [
    "import matplotlib.pyplot as plt\n",
    "\n",
    "df['Language'].value_counts().head(5).plot(kind='bar')\n",
    "\n",
    "plt.title('Top 5 Languages with the Most Fact Checks about Pope')\n",
    "plt.xlabel('Lenguage')\n",
    "plt.ylabel('Number of fact checks')\n",
    "plt.show()"
   ]
  },
  {
   "cell_type": "markdown",
   "id": "dca2282d-3757-406d-833c-c46c63c0c6b4",
   "metadata": {},
   "source": [
    "# 3. Years with the highest number of lies about the Pope\n",
    "\n",
    "As datas estão incluindo o dia de publicação, mas quero usar apenas o ano."
   ]
  },
  {
   "cell_type": "code",
   "execution_count": 18,
   "id": "2c9033fc-3b0f-4789-b9bd-4a2fdf49d940",
   "metadata": {},
   "outputs": [
    {
     "data": {
      "text/plain": [
       "Review Publication Date\n",
       "2025-04-24T00:00:00Z    17\n",
       "2023-03-27T00:00:00Z    13\n",
       "2025-04-30T00:00:00Z    11\n",
       "2025-05-09T00:00:00Z     8\n",
       "2025-04-25T00:00:00Z     8\n",
       "Name: count, dtype: int64"
      ]
     },
     "execution_count": 18,
     "metadata": {},
     "output_type": "execute_result"
    }
   ],
   "source": [
    "#Interestingly, the day with the highest number of fact-checks published about the Pope in the history of data collection, \n",
    "#was three days after Francisco's death.\n",
    "\n",
    "df['Review Publication Date'].value_counts().head(5)"
   ]
  },
  {
   "cell_type": "markdown",
   "id": "766fda90-3f7c-4c11-b690-7c571adb59ec",
   "metadata": {},
   "source": [
    "_Note: The Google Fact Check tool only appeared in 2018, so it's really strange that there are publications before that date. But from what I've found, looking at the links in the table, they're from the Snopes agency, which does have texts before 2005 with fact checks. The texts were recently updated on the site, so I believe the data was imported._"
   ]
  },
  {
   "cell_type": "code",
   "execution_count": 19,
   "id": "d484b822-4f17-44a4-9539-ef54c7e7da1c",
   "metadata": {},
   "outputs": [
    {
     "data": {
      "text/plain": [
       "Year\n",
       "2025.0    304\n",
       "2024.0     61\n",
       "2023.0    138\n",
       "2022.0     42\n",
       "2021.0     68\n",
       "2020.0     52\n",
       "2019.0     11\n",
       "2018.0     27\n",
       "2017.0      7\n",
       "2016.0      6\n",
       "2015.0     10\n",
       "2014.0      1\n",
       "2006.0      1\n",
       "2005.0      2\n",
       "Name: count, dtype: int64"
      ]
     },
     "execution_count": 19,
     "metadata": {},
     "output_type": "execute_result"
    }
   ],
   "source": [
    "#Counting the years with the most fact-checks\n",
    "df['Review Publication Date'] = pd.to_datetime(df['Review Publication Date'])\n",
    "df['Year'] = df['Review Publication Date'].dt.year\n",
    "fact_checks_year = df['Year'].value_counts().sort_index(ascending=False)\n",
    "fact_checks_year"
   ]
  },
  {
   "cell_type": "code",
   "execution_count": 33,
   "id": "5abacf55-a493-4f2c-a081-c627490a7737",
   "metadata": {},
   "outputs": [
    {
     "data": {
      "image/png": "[encoded data removed]",
      "text/plain": [
       "<Figure size 640x480 with 1 Axes>"
      ]
     },
     "metadata": {},
     "output_type": "display_data"
    }
   ],
   "source": [
    "fact_checks_year.head(3).plot(kind='bar')\n",
    "plt.title('Years with the most fact-checks about the Pope')\n",
    "plt.xlabel('Year')\n",
    "plt.ylabel('Number of fact checks')\n",
    "plt.show()"
   ]
  },
  {
   "cell_type": "code",
   "execution_count": 22,
   "id": "fbd2fb48-82a7-4d01-aad6-c5ec41205d24",
   "metadata": {},
   "outputs": [
    {
     "name": "stderr",
     "output_type": "stream",
     "text": [
      "C:\\Users\\gf120867\\AppData\\Local\\Temp\\ipykernel_20692\\1272392979.py:2: SettingWithCopyWarning: \n",
      "A value is trying to be set on a copy of a slice from a DataFrame.\n",
      "Try using .loc[row_indexer,col_indexer] = value instead\n",
      "\n",
      "See the caveats in the documentation: https://pandas.pydata.org/pandas-docs/stable/user_guide/indexing.html#returning-a-view-versus-a-copy\n",
      "  df_2025['Month'] = df_2025['Review Publication Date'].dt.month\n"
     ]
    },
    {
     "data": {
      "text/plain": [
       "Month\n",
       "1      4\n",
       "2     18\n",
       "3      9\n",
       "4    134\n",
       "5    126\n",
       "6     13\n",
       "Name: count, dtype: int64"
      ]
     },
     "execution_count": 22,
     "metadata": {},
     "output_type": "execute_result"
    }
   ],
   "source": [
    "#I created a filter by month to understand the behavior of the first six months of 2025\n",
    "df_2025 = df[df['Review Publication Date'].dt.year == 2025]\n",
    "df_2025['Month'] = df_2025['Review Publication Date'].dt.month\n",
    "fact_checks_month = df_2025['Month'].value_counts().sort_index()\n",
    "fact_checks_month"
   ]
  },
  {
   "cell_type": "code",
   "execution_count": 24,
   "id": "a22f0292-a31c-49b1-9fd5-7872f672d65f",
   "metadata": {},
   "outputs": [
    {
     "data": {
      "image/png": "[encoded data removed]",
      "text/plain": [
       "<Figure size 640x480 with 1 Axes>"
      ]
     },
     "metadata": {},
     "output_type": "display_data"
    }
   ],
   "source": [
    "fact_checks_month.plot(kind='bar')\n",
    "plt.title('Pope Fact Checks by Month in 2025')\n",
    "plt.xlabel('Month')\n",
    "plt.ylabel('Number of fact checks')\n",
    "plt.show()"
   ]
  },
  {
   "cell_type": "markdown",
   "id": "d5c3c214-1c11-4023-b2cf-03d53c25d296",
   "metadata": {},
   "source": [
    "# Counting occurrences between Popes Francis and Leo XIV\n",
    "\n",
    "It is important to note that in some cases the Popes may have been mentioned only as 'Pope,' without the name included, which affects the comparison."
   ]
  },
  {
   "cell_type": "code",
   "execution_count": 42,
   "id": "5a821a0a-535d-434e-9e32-0cd7019b3152",
   "metadata": {},
   "outputs": [
    {
     "name": "stdout",
     "output_type": "stream",
     "text": [
      "Leo XIV: 80\n",
      "Francis: 411\n",
      "Pope: 756\n"
     ]
    }
   ],
   "source": [
    "#Counting occurrences between Popes Francis and Leo XIV\n",
    "claims_eng = pd.read_excel(\"claims_traduzidas.xlsx\")\n",
    "\n",
    "pope_count = claims_eng['claim_en'].str.contains('Pope', case=False, na=False).sum()\n",
    "\n",
    "leo_count = claims_eng['claim_en'].str.contains('Leo XIV', case=False, na=False).sum()\n",
    "\n",
    "# Contando ocorrências de 'Francisco'\n",
    "francis_count = claims_eng['claim_en'].str.contains('Francis', case=False, na=False).sum()\n",
    "\n",
    "print(f\"Leo XIV: {leao_count}\")\n",
    "print(f\"Francis: {francisco_count}\")\n",
    "print(f\"Pope: {pope_count}\")"
   ]
  },
  {
   "cell_type": "markdown",
   "id": "e5e252be-c223-4260-9132-3239e23ee19d",
   "metadata": {},
   "source": [
    "# Fact-checking agencies with the most publications about the Pope\n",
    "\n",
    "It's important to be aware that not all fact-checking agencies in the world use Google's fact-checking tool."
   ]
  },
  {
   "cell_type": "code",
   "execution_count": 52,
   "id": "750e7ea6-f11d-4b22-a5cb-53dca930a89d",
   "metadata": {},
   "outputs": [
    {
     "data": {
      "text/plain": [
       "Source Name\n",
       "Snopes              72\n",
       "AFP Fact Check      40\n",
       "Newtral             36\n",
       "Lead Stories        32\n",
       "AFP Factual         30\n",
       "                    ..\n",
       "台灣事實查核中心             1\n",
       "Fact Crescendo       1\n",
       "Pagella Politica     1\n",
       "FactRakers           1\n",
       "AFP Fakty            1\n",
       "Name: count, Length: 110, dtype: int64"
      ]
     },
     "execution_count": 52,
     "metadata": {},
     "output_type": "execute_result"
    }
   ],
   "source": [
    "df = pd.read_excel('factcheck_pope_results.xlsx')\n",
    "df['Source Name'].value_counts()"
   ]
  },
  {
   "cell_type": "code",
   "execution_count": 27,
   "id": "09924263-3ae6-4485-b11c-4ecb833a5921",
   "metadata": {},
   "outputs": [
    {
     "data": {
      "text/plain": [
       "110"
      ]
     },
     "execution_count": 27,
     "metadata": {},
     "output_type": "execute_result"
    }
   ],
   "source": [
    "count_agencies = df['Source Name'].nunique()\n",
    "count_agencies"
   ]
  },
  {
   "cell_type": "code",
   "execution_count": 53,
   "id": "1622f71f-7518-4829-8352-8eea46e50ea3",
   "metadata": {},
   "outputs": [
    {
     "data": {
      "text/plain": [
       "Source Name\n",
       "Snopes            72\n",
       "AFP Fact Check    40\n",
       "Newtral           36\n",
       "Lead Stories      32\n",
       "AFP Factual       30\n",
       "Name: count, dtype: int64"
      ]
     },
     "execution_count": 53,
     "metadata": {},
     "output_type": "execute_result"
    }
   ],
   "source": [
    "df['Source Name'].value_counts().head(5)"
   ]
  },
  {
   "cell_type": "code",
   "execution_count": 59,
   "id": "95b44290-f167-4e7e-b5f5-d0f85bbb8fea",
   "metadata": {},
   "outputs": [
    {
     "data": {
      "image/png": "[encoded data removed]",
      "text/plain": [
       "<Figure size 640x480 with 1 Axes>"
      ]
     },
     "metadata": {},
     "output_type": "display_data"
    }
   ],
   "source": [
    "df['Source Name'].value_counts().head(5).plot(kind='bar')\n",
    "plt.title('Fact-checking agencies with the most publications about the Pope')\n",
    "plt.xlabel('Name')\n",
    "plt.ylabel('Number')\n",
    "plt.show()"
   ]
  }
 ],
 "metadata": {
  "kernelspec": {
   "display_name": "Python 3 (ipykernel)",
   "language": "python",
   "name": "python3"
  },
  "language_info": {
   "codemirror_mode": {
    "name": "ipython",
    "version": 3
   },
   "file_extension": ".py",
   "mimetype": "text/x-python",
   "name": "python",
   "nbconvert_exporter": "python",
   "pygments_lexer": "ipython3",
   "version": "3.12.0"
  }
 },
 "nbformat": 4,
 "nbformat_minor": 5
}
